{
 "cells": [
  {
   "cell_type": "code",
   "execution_count": 124,
   "id": "ee9d188f",
   "metadata": {},
   "outputs": [],
   "source": [
    "import numpy as np\n",
    "\n",
    "from spotlight.cross_validation import random_train_test_split\n",
    "from spotlight.datasets.movielens import get_movielens_dataset\n",
    "from spotlight.evaluation import rmse_score\n",
    "from spotlight.factorization.explicit import ExplicitFactorizationModel\n",
    "\n",
    "dataset = get_movielens_dataset(variant='100K')\n",
    "\n",
    "train, test = random_train_test_split(dataset)\n",
    "\n",
    "model = ExplicitFactorizationModel(n_iter=1)\n",
    "model.fit(train)\n",
    "\n",
    "rmse = rmse_score(model, test)"
   ]
  },
  {
   "cell_type": "code",
   "execution_count": 125,
   "id": "1dd8b76d",
   "metadata": {},
   "outputs": [
    {
     "name": "stdout",
     "output_type": "stream",
     "text": [
      "<Interactions dataset (944 users x 1683 items x 100000 interactions)>\n"
     ]
    }
   ],
   "source": [
    "from spotlight.datasets.movielens import get_movielens_dataset\n",
    "\n",
    "dataset = get_movielens_dataset(variant='100K')\n",
    "print(dataset)"
   ]
  },
  {
   "cell_type": "code",
   "execution_count": 126,
   "id": "f9b34d20",
   "metadata": {},
   "outputs": [],
   "source": [
    "import torch\n",
    "\n",
    "from spotlight.factorization.explicit import ExplicitFactorizationModel\n",
    "\n",
    "model = ExplicitFactorizationModel(loss='regression',\n",
    "                                   embedding_dim=128,  # latent dimensionality\n",
    "                                   n_iter=10,  # number of epochs of training\n",
    "                                   batch_size=1024,  # minibatch size\n",
    "                                   l2=1e-9,  # strength of L2 regularization\n",
    "                                   learning_rate=1e-3,\n",
    "                                   use_cuda=torch.cuda.is_available())"
   ]
  },
  {
   "cell_type": "code",
   "execution_count": 127,
   "id": "00ca5030",
   "metadata": {},
   "outputs": [
    {
     "name": "stdout",
     "output_type": "stream",
     "text": [
      "Split into \n",
      " <Interactions dataset (944 users x 1683 items x 80000 interactions)> and \n",
      " <Interactions dataset (944 users x 1683 items x 20000 interactions)>.\n"
     ]
    }
   ],
   "source": [
    "from spotlight.cross_validation import random_train_test_split\n",
    "\n",
    "train, test = random_train_test_split(dataset, random_state=np.random.RandomState(42))\n",
    "\n",
    "print('Split into \\n {} and \\n {}.'.format(train, test))"
   ]
  },
  {
   "cell_type": "code",
   "execution_count": 128,
   "id": "563e2775",
   "metadata": {},
   "outputs": [
    {
     "name": "stdout",
     "output_type": "stream",
     "text": [
      "Epoch 0: loss 13.115769977811016\n",
      "Epoch 1: loss 7.343487673167941\n",
      "Epoch 2: loss 1.7594345792939392\n",
      "Epoch 3: loss 1.0705936551094055\n",
      "Epoch 4: loss 0.9445638196377815\n",
      "Epoch 5: loss 0.8954034757010544\n",
      "Epoch 6: loss 0.8691431676285176\n",
      "Epoch 7: loss 0.8525760332240334\n",
      "Epoch 8: loss 0.8426664230189745\n",
      "Epoch 9: loss 0.8289334638209283\n"
     ]
    }
   ],
   "source": [
    "model.fit(train, verbose=True) #losses are decreasing bc the model is becoming better"
   ]
  },
  {
   "cell_type": "code",
   "execution_count": 131,
   "id": "ed2fd6f8",
   "metadata": {},
   "outputs": [
    {
     "name": "stdout",
     "output_type": "stream",
     "text": [
      "Train RMSE 0.895, test RMSE 0.939\n"
     ]
    }
   ],
   "source": [
    "from spotlight.evaluation import rmse_score\n",
    "\n",
    "train_rmse = rmse_score(model, train)\n",
    "test_rmse = rmse_score(model, test)\n",
    "\n",
    "print('Train RMSE {:.3f}, test RMSE {:.3f}'.format(train_rmse, test_rmse)) #how good the predictions are"
   ]
  },
  {
   "cell_type": "code",
   "execution_count": 132,
   "id": "684d5f32",
   "metadata": {},
   "outputs": [
    {
     "data": {
      "text/plain": [
       "array([0.13233915, 3.9321253 , 3.2043025 , ..., 1.6875831 , 1.8348737 ,\n",
       "       1.9538184 ], dtype=float32)"
      ]
     },
     "execution_count": 132,
     "metadata": {},
     "output_type": "execute_result"
    }
   ],
   "source": [
    "model.predict(user_ids=1)"
   ]
  },
  {
   "cell_type": "code",
   "execution_count": 136,
   "id": "983552a1",
   "metadata": {},
   "outputs": [],
   "source": [
    "def get_movielens_dataset(movieId, test):\n",
    "    movie_data = dataset[dataset['movieId'] == movieId]\n",
    "    return movie_data[['title']].to_dict(orient='records')\n"
   ]
  },
  {
   "cell_type": "code",
   "execution_count": null,
   "id": "d9126ab8",
   "metadata": {},
   "outputs": [],
   "source": [
    "\n"
   ]
  },
  {
   "cell_type": "code",
   "execution_count": null,
   "id": "f637c3d1",
   "metadata": {},
   "outputs": [],
   "source": []
  }
 ],
 "metadata": {
  "kernelspec": {
   "display_name": "Python 3",
   "language": "python",
   "name": "python3"
  },
  "language_info": {
   "codemirror_mode": {
    "name": "ipython",
    "version": 3
   },
   "file_extension": ".py",
   "mimetype": "text/x-python",
   "name": "python",
   "nbconvert_exporter": "python",
   "pygments_lexer": "ipython3",
   "version": "3.6.13"
  }
 },
 "nbformat": 4,
 "nbformat_minor": 5
}
