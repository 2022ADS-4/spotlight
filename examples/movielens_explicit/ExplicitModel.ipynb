{
 "cells": [
  {
   "cell_type": "code",
   "execution_count": 15,
   "id": "166fdcfd",
   "metadata": {},
   "outputs": [],
   "source": [
    "import numpy as np\n",
    "import pandas as pd\n",
    "\n",
    "from spotlight.datasets.movielens import get_movielens_dataset\n",
    "\n",
    "dataset = get_movielens_dataset(variant='100K')"
   ]
  },
  {
   "cell_type": "code",
   "execution_count": 16,
   "id": "fd396ed3",
   "metadata": {},
   "outputs": [],
   "source": [
    "import torch\n",
    "\n",
    "from spotlight.factorization.explicit import ExplicitFactorizationModel\n",
    "\n",
    "model = ExplicitFactorizationModel(loss='regression',\n",
    "                                   embedding_dim=128,  # latent dimensionality\n",
    "                                   n_iter=10,  # number of epochs of training\n",
    "                                   batch_size=1024,  # minibatch size\n",
    "                                   l2=1e-9,  # strength of L2 regularization\n",
    "                                   learning_rate=1e-3,\n",
    "                                   use_cuda=torch.cuda.is_available())"
   ]
  },
  {
   "cell_type": "code",
   "execution_count": 17,
   "id": "827f6824",
   "metadata": {},
   "outputs": [
    {
     "name": "stdout",
     "output_type": "stream",
     "text": [
      "Split into \n",
      " <Interactions dataset (944 users x 1683 items x 80000 interactions)> and \n",
      " <Interactions dataset (944 users x 1683 items x 20000 interactions)>.\n"
     ]
    }
   ],
   "source": [
    "from spotlight.cross_validation import random_train_test_split\n",
    "\n",
    "train, test = random_train_test_split(dataset, random_state=np.random.RandomState(42))\n",
    "\n",
    "print('Split into \\n {} and \\n {}.'.format(train, test))"
   ]
  },
  {
   "cell_type": "code",
   "execution_count": 18,
   "id": "fc1ca7ae",
   "metadata": {},
   "outputs": [
    {
     "name": "stdout",
     "output_type": "stream",
     "text": [
      "Epoch 0: loss 13.114402420913116\n",
      "Epoch 1: loss 7.324166165122503\n",
      "Epoch 2: loss 1.7500920838947538\n",
      "Epoch 3: loss 1.069020982784561\n",
      "Epoch 4: loss 0.9418559557274927\n",
      "Epoch 5: loss 0.8980849988852875\n",
      "Epoch 6: loss 0.8718508972397333\n",
      "Epoch 7: loss 0.8592295925828475\n",
      "Epoch 8: loss 0.8483344278758085\n",
      "Epoch 9: loss 0.8386729186094259\n"
     ]
    }
   ],
   "source": [
    "model.fit(train, verbose=True)"
   ]
  },
  {
   "cell_type": "code",
   "execution_count": 19,
   "id": "33e3d7f4",
   "metadata": {},
   "outputs": [
    {
     "name": "stdout",
     "output_type": "stream",
     "text": [
      "Train RMSE 0.902, test RMSE 0.943\n"
     ]
    }
   ],
   "source": [
    "from spotlight.evaluation import rmse_score\n",
    "\n",
    "train_rmse = rmse_score(model, train)\n",
    "test_rmse = rmse_score(model, test)\n",
    "\n",
    "print('Train RMSE {:.3f}, test RMSE {:.3f}'.format(train_rmse, test_rmse))"
   ]
  },
  {
   "cell_type": "code",
   "execution_count": 72,
   "id": "ca922e16",
   "metadata": {},
   "outputs": [],
   "source": [
    "dataset_path=\"/Users/hannah/Desktop/Agile Data Science/ml-latest/movies.csv\"\n",
    "\n",
    "outdict={}\n",
    "with open(dataset_path,'r') as fh:\n",
    "    for line in fh:\n",
    "        if line.startswith('mov'): continue\n",
    "        pline=line.strip().split(',')\n",
    "        movie_id, title =pline[0], pline[1]\n",
    "        if movie_id in outdict:continue\n",
    "        outdict[movie_id]=title\n",
    "            \n",
    "\n",
    "def recommend_movies(user_id, dataset, model, n_movies=5):\n",
    "    \n",
    "    ratings=model.predict(user_ids=user_id)\n",
    "    indices=np.argpartition(ratings,-n_movies)[-n_movies:]\n",
    "    best_movie_ids=indices[np.argsort(ratings[indices])]\n",
    "    movie_id= [dataset[i] for i in best_movie_ids]\n",
    "\n",
    "    return [outdict[str(v)] for v in list(movie_id)]"
   ]
  },
  {
   "cell_type": "code",
   "execution_count": 76,
   "id": "1c434d00",
   "metadata": {},
   "outputs": [
    {
     "data": {
      "text/plain": [
       "['Mary Poppins (1964)',\n",
       " 'Lord of Illusions (1995)',\n",
       " 'Striptease (1996)',\n",
       " 'Bhaji on the Beach (1993)',\n",
       " '\"Day the Sun Turned Cold']"
      ]
     },
     "execution_count": 76,
     "metadata": {},
     "output_type": "execute_result"
    }
   ],
   "source": [
    "recommend_movies(6, dataset.item_ids, model)"
   ]
  },
  {
   "cell_type": "code",
   "execution_count": null,
   "id": "c2916dca",
   "metadata": {},
   "outputs": [],
   "source": []
  },
  {
   "cell_type": "code",
   "execution_count": null,
   "id": "9a3e858a",
   "metadata": {},
   "outputs": [],
   "source": []
  },
  {
   "cell_type": "code",
   "execution_count": null,
   "id": "3f478ebd",
   "metadata": {},
   "outputs": [],
   "source": []
  },
  {
   "cell_type": "code",
   "execution_count": null,
   "id": "937294e5",
   "metadata": {},
   "outputs": [],
   "source": []
  },
  {
   "cell_type": "code",
   "execution_count": null,
   "id": "1452af77",
   "metadata": {},
   "outputs": [],
   "source": []
  },
  {
   "cell_type": "code",
   "execution_count": null,
   "id": "5276e358",
   "metadata": {},
   "outputs": [],
   "source": []
  },
  {
   "cell_type": "code",
   "execution_count": null,
   "id": "cfec645c",
   "metadata": {},
   "outputs": [],
   "source": []
  }
 ],
 "metadata": {
  "kernelspec": {
   "display_name": "Python 3",
   "language": "python",
   "name": "python3"
  },
  "language_info": {
   "codemirror_mode": {
    "name": "ipython",
    "version": 3
   },
   "file_extension": ".py",
   "mimetype": "text/x-python",
   "name": "python",
   "nbconvert_exporter": "python",
   "pygments_lexer": "ipython3",
   "version": "3.6.13"
  }
 },
 "nbformat": 4,
 "nbformat_minor": 5
}
