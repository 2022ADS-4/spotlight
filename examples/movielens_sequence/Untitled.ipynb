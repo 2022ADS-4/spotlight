{
 "cells": [
  {
   "cell_type": "markdown",
   "id": "e1333c70",
   "metadata": {},
   "source": [
    "# Code to automatically select the best model, reproduce it and save it!\n",
    "given the mlruns folder of mlflow. <br>\n",
    "Author: Thorsten Kalb <br>\n",
    "December 2022"
   ]
  },
  {
   "cell_type": "markdown",
   "id": "1ff04f76",
   "metadata": {},
   "source": [
    "Idea: Loop through the directories and locate the lowest mean inverse mrr.\n",
    "Use this location and retrai the model with the logged parameters. Save the model with torch.save."
   ]
  },
  {
   "cell_type": "code",
   "execution_count": null,
   "id": "63600a95",
   "metadata": {},
   "outputs": [],
   "source": []
  }
 ],
 "metadata": {
  "kernelspec": {
   "display_name": "Python 3",
   "language": "python",
   "name": "python3"
  },
  "language_info": {
   "codemirror_mode": {
    "name": "ipython",
    "version": 3
   },
   "file_extension": ".py",
   "mimetype": "text/x-python",
   "name": "python",
   "nbconvert_exporter": "python",
   "pygments_lexer": "ipython3",
   "version": "3.6.13"
  }
 },
 "nbformat": 4,
 "nbformat_minor": 5
}
