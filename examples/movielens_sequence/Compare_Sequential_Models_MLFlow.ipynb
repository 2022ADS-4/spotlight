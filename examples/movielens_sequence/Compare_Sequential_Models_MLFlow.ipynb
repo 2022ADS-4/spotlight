{
 "cells": [
  {
   "cell_type": "markdown",
   "id": "435105b6",
   "metadata": {},
   "source": [
    "# Compare different sequential models\n",
    "\n",
    "Author: Thorsten Kalb\n",
    "\n",
    "This Notebook should execute the functions given in movielens_sequence and evaluate the validation accuracy.\n",
    "It will be used later to compare the sequential models to the explicit model."
   ]
  },
  {
   "cell_type": "code",
   "execution_count": 3,
   "id": "5d4c264a",
   "metadata": {},
   "outputs": [],
   "source": [
    "from spotlight.cross_validation import user_based_train_test_split\n",
    "from spotlight.datasets.movielens import get_movielens_dataset\n",
    "from spotlight.evaluation import sequence_mrr_score\n",
    "from spotlight.sequence.implicit import ImplicitSequenceModel\n",
    "import matplotlib.pyplot as plt\n",
    "import numpy as np\n",
    "import sys\n",
    "import mlflow\n",
    "from mlflow import log_metric, log_param, log_artifact\n",
    "\n",
    "\n",
    "dataset_name = '100K'\n",
    "dataset = get_movielens_dataset(dataset_name)\n",
    "mlflow.set_tracking_uri('./mlruns')"
   ]
  },
  {
   "cell_type": "code",
   "execution_count": 5,
   "id": "7c5bcfeb",
   "metadata": {},
   "outputs": [
    {
     "ename": "TypeError",
     "evalue": "expected str, bytes or os.PathLike object, not ImplicitSequenceModel",
     "output_type": "error",
     "traceback": [
      "\u001b[1;31m---------------------------------------------------------------------------\u001b[0m",
      "\u001b[1;31mTypeError\u001b[0m                                 Traceback (most recent call last)",
      "\u001b[1;32m<ipython-input-5-b8d3e3928467>\u001b[0m in \u001b[0;36m<module>\u001b[1;34m\u001b[0m\n\u001b[0;32m     29\u001b[0m         \u001b[0mlog_param\u001b[0m\u001b[1;33m(\u001b[0m\u001b[1;34m\"model type\"\u001b[0m\u001b[1;33m,\u001b[0m\u001b[0mrepres\u001b[0m\u001b[1;33m)\u001b[0m\u001b[1;33m\u001b[0m\u001b[1;33m\u001b[0m\u001b[0m\n\u001b[0;32m     30\u001b[0m \u001b[1;33m\u001b[0m\u001b[0m\n\u001b[1;32m---> 31\u001b[1;33m         \u001b[0mlog_artifact\u001b[0m\u001b[1;33m(\u001b[0m\u001b[1;34m\"model_object\"\u001b[0m\u001b[1;33m,\u001b[0m\u001b[0mmodel\u001b[0m\u001b[1;33m)\u001b[0m\u001b[1;33m\u001b[0m\u001b[1;33m\u001b[0m\u001b[0m\n\u001b[0m\u001b[0;32m     32\u001b[0m         \u001b[1;31m# plot the performance\u001b[0m\u001b[1;33m\u001b[0m\u001b[1;33m\u001b[0m\u001b[1;33m\u001b[0m\u001b[0m\n\u001b[0;32m     33\u001b[0m         \u001b[0mplt\u001b[0m\u001b[1;33m.\u001b[0m\u001b[0mplot\u001b[0m\u001b[1;33m(\u001b[0m\u001b[0mmrr\u001b[0m\u001b[1;33m,\u001b[0m\u001b[0malpha\u001b[0m\u001b[1;33m=\u001b[0m\u001b[1;36m0.5\u001b[0m\u001b[1;33m)\u001b[0m\u001b[1;33m\u001b[0m\u001b[1;33m\u001b[0m\u001b[0m\n",
      "\u001b[1;32m~\\anaconda3\\envs\\AgileData\\lib\\site-packages\\mlflow\\tracking\\fluent.py\u001b[0m in \u001b[0;36mlog_artifact\u001b[1;34m(local_path, artifact_path)\u001b[0m\n\u001b[0;32m    604\u001b[0m     \"\"\"\n\u001b[0;32m    605\u001b[0m     \u001b[0mrun_id\u001b[0m \u001b[1;33m=\u001b[0m \u001b[0m_get_or_start_run\u001b[0m\u001b[1;33m(\u001b[0m\u001b[1;33m)\u001b[0m\u001b[1;33m.\u001b[0m\u001b[0minfo\u001b[0m\u001b[1;33m.\u001b[0m\u001b[0mrun_id\u001b[0m\u001b[1;33m\u001b[0m\u001b[1;33m\u001b[0m\u001b[0m\n\u001b[1;32m--> 606\u001b[1;33m     \u001b[0mMlflowClient\u001b[0m\u001b[1;33m(\u001b[0m\u001b[1;33m)\u001b[0m\u001b[1;33m.\u001b[0m\u001b[0mlog_artifact\u001b[0m\u001b[1;33m(\u001b[0m\u001b[0mrun_id\u001b[0m\u001b[1;33m,\u001b[0m \u001b[0mlocal_path\u001b[0m\u001b[1;33m,\u001b[0m \u001b[0martifact_path\u001b[0m\u001b[1;33m)\u001b[0m\u001b[1;33m\u001b[0m\u001b[1;33m\u001b[0m\u001b[0m\n\u001b[0m\u001b[0;32m    607\u001b[0m \u001b[1;33m\u001b[0m\u001b[0m\n\u001b[0;32m    608\u001b[0m \u001b[1;33m\u001b[0m\u001b[0m\n",
      "\u001b[1;32m~\\anaconda3\\envs\\AgileData\\lib\\site-packages\\mlflow\\tracking\\client.py\u001b[0m in \u001b[0;36mlog_artifact\u001b[1;34m(self, run_id, local_path, artifact_path)\u001b[0m\n\u001b[0;32m    953\u001b[0m             \u001b[0mis_dir\u001b[0m\u001b[1;33m:\u001b[0m \u001b[1;32mFalse\u001b[0m\u001b[1;33m\u001b[0m\u001b[1;33m\u001b[0m\u001b[0m\n\u001b[0;32m    954\u001b[0m         \"\"\"\n\u001b[1;32m--> 955\u001b[1;33m         \u001b[0mself\u001b[0m\u001b[1;33m.\u001b[0m\u001b[0m_tracking_client\u001b[0m\u001b[1;33m.\u001b[0m\u001b[0mlog_artifact\u001b[0m\u001b[1;33m(\u001b[0m\u001b[0mrun_id\u001b[0m\u001b[1;33m,\u001b[0m \u001b[0mlocal_path\u001b[0m\u001b[1;33m,\u001b[0m \u001b[0martifact_path\u001b[0m\u001b[1;33m)\u001b[0m\u001b[1;33m\u001b[0m\u001b[1;33m\u001b[0m\u001b[0m\n\u001b[0m\u001b[0;32m    956\u001b[0m \u001b[1;33m\u001b[0m\u001b[0m\n\u001b[0;32m    957\u001b[0m     def log_artifacts(\n",
      "\u001b[1;32m~\\anaconda3\\envs\\AgileData\\lib\\site-packages\\mlflow\\tracking\\_tracking_service\\client.py\u001b[0m in \u001b[0;36mlog_artifact\u001b[1;34m(self, run_id, local_path, artifact_path)\u001b[0m\n\u001b[0;32m    353\u001b[0m             \u001b[0martifact_repo\u001b[0m\u001b[1;33m.\u001b[0m\u001b[0mlog_artifacts\u001b[0m\u001b[1;33m(\u001b[0m\u001b[0mlocal_path\u001b[0m\u001b[1;33m,\u001b[0m \u001b[0mpath_name\u001b[0m\u001b[1;33m)\u001b[0m\u001b[1;33m\u001b[0m\u001b[1;33m\u001b[0m\u001b[0m\n\u001b[0;32m    354\u001b[0m         \u001b[1;32melse\u001b[0m\u001b[1;33m:\u001b[0m\u001b[1;33m\u001b[0m\u001b[1;33m\u001b[0m\u001b[0m\n\u001b[1;32m--> 355\u001b[1;33m             \u001b[0martifact_repo\u001b[0m\u001b[1;33m.\u001b[0m\u001b[0mlog_artifact\u001b[0m\u001b[1;33m(\u001b[0m\u001b[0mlocal_path\u001b[0m\u001b[1;33m,\u001b[0m \u001b[0martifact_path\u001b[0m\u001b[1;33m)\u001b[0m\u001b[1;33m\u001b[0m\u001b[1;33m\u001b[0m\u001b[0m\n\u001b[0m\u001b[0;32m    356\u001b[0m \u001b[1;33m\u001b[0m\u001b[0m\n\u001b[0;32m    357\u001b[0m     \u001b[1;32mdef\u001b[0m \u001b[0mlog_artifacts\u001b[0m\u001b[1;33m(\u001b[0m\u001b[0mself\u001b[0m\u001b[1;33m,\u001b[0m \u001b[0mrun_id\u001b[0m\u001b[1;33m,\u001b[0m \u001b[0mlocal_dir\u001b[0m\u001b[1;33m,\u001b[0m \u001b[0martifact_path\u001b[0m\u001b[1;33m=\u001b[0m\u001b[1;32mNone\u001b[0m\u001b[1;33m)\u001b[0m\u001b[1;33m:\u001b[0m\u001b[1;33m\u001b[0m\u001b[1;33m\u001b[0m\u001b[0m\n",
      "\u001b[1;32m~\\anaconda3\\envs\\AgileData\\lib\\site-packages\\mlflow\\store\\artifact\\local_artifact_repo.py\u001b[0m in \u001b[0;36mlog_artifact\u001b[1;34m(self, local_file, artifact_path)\u001b[0m\n\u001b[0;32m     25\u001b[0m \u001b[1;33m\u001b[0m\u001b[0m\n\u001b[0;32m     26\u001b[0m     \u001b[1;32mdef\u001b[0m \u001b[0mlog_artifact\u001b[0m\u001b[1;33m(\u001b[0m\u001b[0mself\u001b[0m\u001b[1;33m,\u001b[0m \u001b[0mlocal_file\u001b[0m\u001b[1;33m,\u001b[0m \u001b[0martifact_path\u001b[0m\u001b[1;33m=\u001b[0m\u001b[1;32mNone\u001b[0m\u001b[1;33m)\u001b[0m\u001b[1;33m:\u001b[0m\u001b[1;33m\u001b[0m\u001b[1;33m\u001b[0m\u001b[0m\n\u001b[1;32m---> 27\u001b[1;33m         \u001b[0mverify_artifact_path\u001b[0m\u001b[1;33m(\u001b[0m\u001b[0martifact_path\u001b[0m\u001b[1;33m)\u001b[0m\u001b[1;33m\u001b[0m\u001b[1;33m\u001b[0m\u001b[0m\n\u001b[0m\u001b[0;32m     28\u001b[0m         \u001b[1;31m# NOTE: The artifact_path is expected to be in posix format.\u001b[0m\u001b[1;33m\u001b[0m\u001b[1;33m\u001b[0m\u001b[1;33m\u001b[0m\u001b[0m\n\u001b[0;32m     29\u001b[0m         \u001b[1;31m# Posix paths work fine on windows but just in case we normalize it here.\u001b[0m\u001b[1;33m\u001b[0m\u001b[1;33m\u001b[0m\u001b[1;33m\u001b[0m\u001b[0m\n",
      "\u001b[1;32m~\\anaconda3\\envs\\AgileData\\lib\\site-packages\\mlflow\\store\\artifact\\artifact_repo.py\u001b[0m in \u001b[0;36mverify_artifact_path\u001b[1;34m(artifact_path)\u001b[0m\n\u001b[0;32m    207\u001b[0m \u001b[1;33m\u001b[0m\u001b[0m\n\u001b[0;32m    208\u001b[0m \u001b[1;32mdef\u001b[0m \u001b[0mverify_artifact_path\u001b[0m\u001b[1;33m(\u001b[0m\u001b[0martifact_path\u001b[0m\u001b[1;33m)\u001b[0m\u001b[1;33m:\u001b[0m\u001b[1;33m\u001b[0m\u001b[1;33m\u001b[0m\u001b[0m\n\u001b[1;32m--> 209\u001b[1;33m     \u001b[1;32mif\u001b[0m \u001b[0martifact_path\u001b[0m \u001b[1;32mand\u001b[0m \u001b[0mpath_not_unique\u001b[0m\u001b[1;33m(\u001b[0m\u001b[0martifact_path\u001b[0m\u001b[1;33m)\u001b[0m\u001b[1;33m:\u001b[0m\u001b[1;33m\u001b[0m\u001b[1;33m\u001b[0m\u001b[0m\n\u001b[0m\u001b[0;32m    210\u001b[0m         raise MlflowException(\n\u001b[0;32m    211\u001b[0m             \u001b[1;34m\"Invalid artifact path: '%s'. %s\"\u001b[0m \u001b[1;33m%\u001b[0m \u001b[1;33m(\u001b[0m\u001b[0martifact_path\u001b[0m\u001b[1;33m,\u001b[0m \u001b[0mbad_path_message\u001b[0m\u001b[1;33m(\u001b[0m\u001b[0martifact_path\u001b[0m\u001b[1;33m)\u001b[0m\u001b[1;33m)\u001b[0m\u001b[1;33m\u001b[0m\u001b[1;33m\u001b[0m\u001b[0m\n",
      "\u001b[1;32m~\\anaconda3\\envs\\AgileData\\lib\\site-packages\\mlflow\\utils\\validation.py\u001b[0m in \u001b[0;36mpath_not_unique\u001b[1;34m(name)\u001b[0m\n\u001b[0;32m     75\u001b[0m \u001b[1;33m\u001b[0m\u001b[0m\n\u001b[0;32m     76\u001b[0m \u001b[1;32mdef\u001b[0m \u001b[0mpath_not_unique\u001b[0m\u001b[1;33m(\u001b[0m\u001b[0mname\u001b[0m\u001b[1;33m)\u001b[0m\u001b[1;33m:\u001b[0m\u001b[1;33m\u001b[0m\u001b[1;33m\u001b[0m\u001b[0m\n\u001b[1;32m---> 77\u001b[1;33m     \u001b[0mnorm\u001b[0m \u001b[1;33m=\u001b[0m \u001b[0mposixpath\u001b[0m\u001b[1;33m.\u001b[0m\u001b[0mnormpath\u001b[0m\u001b[1;33m(\u001b[0m\u001b[0mname\u001b[0m\u001b[1;33m)\u001b[0m\u001b[1;33m\u001b[0m\u001b[1;33m\u001b[0m\u001b[0m\n\u001b[0m\u001b[0;32m     78\u001b[0m     \u001b[1;32mreturn\u001b[0m \u001b[0mnorm\u001b[0m \u001b[1;33m!=\u001b[0m \u001b[0mname\u001b[0m \u001b[1;32mor\u001b[0m \u001b[0mnorm\u001b[0m \u001b[1;33m==\u001b[0m \u001b[1;34m\".\"\u001b[0m \u001b[1;32mor\u001b[0m \u001b[0mnorm\u001b[0m\u001b[1;33m.\u001b[0m\u001b[0mstartswith\u001b[0m\u001b[1;33m(\u001b[0m\u001b[1;34m\"..\"\u001b[0m\u001b[1;33m)\u001b[0m \u001b[1;32mor\u001b[0m \u001b[0mnorm\u001b[0m\u001b[1;33m.\u001b[0m\u001b[0mstartswith\u001b[0m\u001b[1;33m(\u001b[0m\u001b[1;34m\"/\"\u001b[0m\u001b[1;33m)\u001b[0m\u001b[1;33m\u001b[0m\u001b[1;33m\u001b[0m\u001b[0m\n\u001b[0;32m     79\u001b[0m \u001b[1;33m\u001b[0m\u001b[0m\n",
      "\u001b[1;32m~\\anaconda3\\envs\\AgileData\\lib\\posixpath.py\u001b[0m in \u001b[0;36mnormpath\u001b[1;34m(path)\u001b[0m\n\u001b[0;32m    338\u001b[0m \u001b[1;32mdef\u001b[0m \u001b[0mnormpath\u001b[0m\u001b[1;33m(\u001b[0m\u001b[0mpath\u001b[0m\u001b[1;33m)\u001b[0m\u001b[1;33m:\u001b[0m\u001b[1;33m\u001b[0m\u001b[1;33m\u001b[0m\u001b[0m\n\u001b[0;32m    339\u001b[0m     \u001b[1;34m\"\"\"Normalize path, eliminating double slashes, etc.\"\"\"\u001b[0m\u001b[1;33m\u001b[0m\u001b[1;33m\u001b[0m\u001b[0m\n\u001b[1;32m--> 340\u001b[1;33m     \u001b[0mpath\u001b[0m \u001b[1;33m=\u001b[0m \u001b[0mos\u001b[0m\u001b[1;33m.\u001b[0m\u001b[0mfspath\u001b[0m\u001b[1;33m(\u001b[0m\u001b[0mpath\u001b[0m\u001b[1;33m)\u001b[0m\u001b[1;33m\u001b[0m\u001b[1;33m\u001b[0m\u001b[0m\n\u001b[0m\u001b[0;32m    341\u001b[0m     \u001b[1;32mif\u001b[0m \u001b[0misinstance\u001b[0m\u001b[1;33m(\u001b[0m\u001b[0mpath\u001b[0m\u001b[1;33m,\u001b[0m \u001b[0mbytes\u001b[0m\u001b[1;33m)\u001b[0m\u001b[1;33m:\u001b[0m\u001b[1;33m\u001b[0m\u001b[1;33m\u001b[0m\u001b[0m\n\u001b[0;32m    342\u001b[0m         \u001b[0msep\u001b[0m \u001b[1;33m=\u001b[0m \u001b[1;34mb'/'\u001b[0m\u001b[1;33m\u001b[0m\u001b[1;33m\u001b[0m\u001b[0m\n",
      "\u001b[1;31mTypeError\u001b[0m: expected str, bytes or os.PathLike object, not ImplicitSequenceModel"
     ]
    },
    {
     "data": {
      "text/plain": [
       "<Figure size 432x288 with 0 Axes>"
      ]
     },
     "metadata": {},
     "output_type": "display_data"
    }
   ],
   "source": [
    "train, test = user_based_train_test_split(dataset)\n",
    "\n",
    "train, validation = user_based_train_test_split(train)\n",
    "\n",
    "train = train.to_sequence()\n",
    "validation = validation.to_sequence()\n",
    "test = test.to_sequence()\n",
    "\n",
    "sequmods = ['pooling','cnn','lstm']\n",
    "\n",
    "for repres in sequmods:\n",
    "    with mlflow.start_run():\n",
    "        n_iter=1\n",
    "        loss='bpr'\n",
    "        model = ImplicitSequenceModel(n_iter=n_iter, #10 #5 #3 #50\n",
    "                                  representation=repres,\n",
    "                                  loss=loss)\n",
    "        model.fit(train)\n",
    "        mrr = sequence_mrr_score(model, validation)\n",
    "        fig = plt.figure()\n",
    "        mean_mrr = np.mean(mrr)\n",
    "        mean_invmrr = np.mean(1/mrr[mrr>0.0])\n",
    "        # log the model's parameters in mlflow\n",
    "        log_param(\"dataset_name\",dataset_name)\n",
    "        log_param(\"n_iter\",n_iter)\n",
    "        log_param(\"loss\",loss)\n",
    "        log_metric(\"mean_mrr\",mean_mrr)\n",
    "        log_metric(\"mean_invmrr\",mean_invmrr)\n",
    "        log_param(\"model type\",repres)\n",
    "        \n",
    "        log_artifact(\"model_object\",model)\n",
    "        # plot the performance\n",
    "        plt.plot(mrr,alpha=0.5)\n",
    "        #plt.yscale('log')\n",
    "        plt.title(repres)\n",
    "        plt.xlabel(\"user\")\n",
    "        plt.ylabel(\"mrr_score\")\n",
    "        plt.axhline(y=mean_mrr, color='r', linestyle='-')\n",
    "        print(\"Mean mrr validation score: {:.4f} for model {}\".format(mean_mrr,repres))\n",
    "        print(\"On average, the first relevant movie int the predicted sequence is at place {} for model {}\".format(mean_invmrr,repres))\n",
    "    #mlflow.end_run()\n"
   ]
  },
  {
   "cell_type": "code",
   "execution_count": 3,
   "id": "bb832903",
   "metadata": {},
   "outputs": [],
   "source": [
    "#!mlflow ui --backend-store-uri ./mlruns"
   ]
  },
  {
   "cell_type": "markdown",
   "id": "4e4b578b",
   "metadata": {},
   "source": [
    "## Result:\n",
    "\n",
    "It depends a lot on the **number of epochs** during training, which model performs better. However, for few iterations, the CNN and lstm have an average mrr score of 0.2m while the pooling model has an average mrr score of 0.4. For more epochs, the validation mrr score increases for all models. \n",
    "\n",
    "For 50 epochs, I report a mrr scores of 0.058, 0.056 and 0.023 for the pooling, cnn and lstm models, respectively. \n",
    "For 100 epochs, I report mrr scores of 0.055, 0.043 and 0.045 for the pooling, cnn and lstm models, respectively.\n",
    "For a better comparison, these experiments should be saved in a docker image with fixed seed etc. \n",
    "\n",
    "I propose **new metrics** for the evaluation here, namely, when does the **first relevant movie** appear in the list, on average. Therefore, I take the average over users of all the inverses of the mrr_scores, wherever the inverse exists.\n",
    "\n",
    "Thus, I would **choose the Pooling model**. The advantage is a higher starting mrr score and a consistently higher mrr score, which means we do not need to train the model a lot and thus, it is quickly accesible and highly adaptable to new data.\n",
    "\n",
    "A **direct comparison with the Explicit model is not (yet) possible**. This is, because of the different nature of the models: Sequential models try to predict the next element of a sequence, whereas the explicit model tries to predict the rating of the user on a movie that the user has not yet seen. Perhaps in the future, we can work on a way to compare the models, e.g. by ordering the rankings from the explicit model and turning this into a sequence?\n",
    "\n",
    "Interestingly, the **mrr scores change for bigger datasets**, resulting in CNN outperforming the pooling, for the given 50 training epochs and evaluating the mean of the mrr score. Interestingly, the mean place, with the first relevant movie is still better for the pooling model for the 1M dataset. The LSTM model worsens in both aspects significantly for the 1M dataset.\n"
   ]
  },
  {
   "cell_type": "code",
   "execution_count": null,
   "id": "0d7b19f9",
   "metadata": {},
   "outputs": [],
   "source": []
  }
 ],
 "metadata": {
  "kernelspec": {
   "display_name": "Python 3",
   "language": "python",
   "name": "python3"
  },
  "language_info": {
   "codemirror_mode": {
    "name": "ipython",
    "version": 3
   },
   "file_extension": ".py",
   "mimetype": "text/x-python",
   "name": "python",
   "nbconvert_exporter": "python",
   "pygments_lexer": "ipython3",
   "version": "3.6.13"
  }
 },
 "nbformat": 4,
 "nbformat_minor": 5
}
